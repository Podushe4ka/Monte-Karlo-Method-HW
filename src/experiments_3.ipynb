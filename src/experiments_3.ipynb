{
 "cells": [
  {
   "cell_type": "markdown",
   "id": "96922c2f",
   "metadata": {},
   "source": [
    "Теперь построим множество A"
   ]
  },
  {
   "cell_type": "code",
   "execution_count": 1,
   "id": "6d67bcc7",
   "metadata": {},
   "outputs": [],
   "source": [
    "import networkx as nx\n",
    "import numpy as np\n",
    "from sklearn.neighbors import NearestNeighbors\n",
    "import matplotlib.pyplot as plt\n",
    "import seaborn as sns\n",
    "from tqdm import tqdm\n",
    "\n",
    "from utils import monte_carlo_experiment"
   ]
  },
  {
   "cell_type": "code",
   "execution_count": null,
   "id": "a9e11fe9",
   "metadata": {},
   "outputs": [],
   "source": [
    "#Фиксируем параметры процедуры построения графа\n",
    "D = 0.1             # параметр d для dist графа\n",
    "n_sampels = 500     # число итераций\n",
    "N = 200             # размер набора генерируемых данных\n",
    "GRAPH_TYPE = 'dist'  # тип графа \n"
   ]
  },
  {
   "cell_type": "code",
   "execution_count": 3,
   "id": "5fbe4763",
   "metadata": {},
   "outputs": [],
   "source": [
    "params_h0 = {\n",
    "            'graph_type': GRAPH_TYPE,\n",
    "            'n': N,\n",
    "            'x': D,\n",
    "            'lambda': 1,\n",
    "            'distribution': 'h0'\n",
    "         }\n",
    "\n",
    "params_h1 = {\n",
    "            'graph_type': GRAPH_TYPE,\n",
    "            'n': N,\n",
    "            'x': D,\n",
    "            'lambda': 1/np.sqrt(10),\n",
    "            'distribution': 'h1'\n",
    "         }"
   ]
  },
  {
   "cell_type": "code",
   "execution_count": 4,
   "id": "f1f678e8",
   "metadata": {},
   "outputs": [],
   "source": [
    "\n",
    "metrics_h0 = monte_carlo_experiment(params_h0, n_sampels, False)\n",
    "\n",
    "metrics_h1 = monte_carlo_experiment(params_h1, n_sampels, False)"
   ]
  },
  {
   "cell_type": "code",
   "execution_count": 10,
   "id": "54d8bb33",
   "metadata": {},
   "outputs": [
    {
     "data": {
      "image/png": "[encoded data removed]",
      "text/plain": [
       "<Figure size 640x480 with 1 Axes>"
      ]
     },
     "metadata": {},
     "output_type": "display_data"
    }
   ],
   "source": [
    "plt.hist(metrics_h0, bins=50, alpha=0.7, color='blue', edgecolor='black', label='Метрики H0')\n",
    "plt.hist(metrics_h1, bins=50, alpha=0.7, color='red', edgecolor='black',  label='Метрики H1')\n",
    "plt.title('Гистограмма')\n",
    "plt.xlabel('Значения')\n",
    "plt.ylabel('Частота')\n",
    "plt.legend()\n",
    "plt.show()"
   ]
  },
  {
   "cell_type": "markdown",
   "id": "b1a41332",
   "metadata": {},
   "source": [
    "Как мы видим, при фиксированном N значения очень хорошо отличаются.\n",
    "Построим область A так, что левее ее левой границы лежит не более 5% результатов"
   ]
  },
  {
   "cell_type": "code",
   "execution_count": 35,
   "id": "dd8e7a3e",
   "metadata": {},
   "outputs": [
    {
     "name": "stdout",
     "output_type": "stream",
     "text": [
      "29.0\n"
     ]
    }
   ],
   "source": [
    "A_crit = np.percentile(metrics_h0, 100 * (0.95))\n",
    "print(A_crit)"
   ]
  },
  {
   "cell_type": "markdown",
   "id": "e04e79fe",
   "metadata": {},
   "source": [
    "Итого для N=200 область A от 0 до 29. (На самомо деле видно, что можно взять A от 0 до 50 и результат будет лучше)\n"
   ]
  },
  {
   "cell_type": "code",
   "execution_count": null,
   "id": "5a9dbc98",
   "metadata": {},
   "outputs": [],
   "source": [
    "def error_calculation(A_crit, n_sampels):  # функция вычисляет ошибку и мощность H1\n",
    "    rejections=0\n",
    "    approved=0\n",
    "    h0_data = monte_carlo_experiment(params_h0, n_sampels, False) \n",
    "    for i in h0_data:\n",
    "        if i>A_crit: # данные из распределения H0, но отнесли к H1\n",
    "            rejections+=1\n",
    "    err = rejections/n_sampels\n",
    "\n",
    "    h1_data = monte_carlo_experiment(params_h1, n_sampels, False)\n",
    "    for i in h1_data:\n",
    "        if i>A_crit: # Данные из H1 и отнесли к H1\n",
    "            approved+=1\n",
    "            \n",
    "    power = approved/n_sampels\n",
    "\n",
    "    return err, power\n",
    "    \n",
    "\n",
    "\n"
   ]
  },
  {
   "cell_type": "code",
   "execution_count": 34,
   "id": "3ac4cd8f",
   "metadata": {},
   "outputs": [
    {
     "name": "stdout",
     "output_type": "stream",
     "text": [
      "Ошибка на H0: 0.04 Полнота H1: 1.0\n"
     ]
    }
   ],
   "source": [
    "results = error_calculation(A_crit, 100)\n",
    "\n",
    "print(f'Ошибка на H0: {results[0]}', f'Полнота H1: {results[1]}')"
   ]
  },
  {
   "cell_type": "markdown",
   "id": "dc4eb6d8",
   "metadata": {},
   "source": [
    "Как мы видим, число принятых неверно значений из H0 не больше 0.05, из H1 все выборки были угаданы верно"
   ]
  }
 ],
 "metadata": {
  "kernelspec": {
   "display_name": "Python 3",
   "language": "python",
   "name": "python3"
  },
  "language_info": {
   "codemirror_mode": {
    "name": "ipython",
    "version": 3
   },
   "file_extension": ".py",
   "mimetype": "text/x-python",
   "name": "python",
   "nbconvert_exporter": "python",
   "pygments_lexer": "ipython3",
   "version": "3.10.12"
  }
 },
 "nbformat": 4,
 "nbformat_minor": 5
}
