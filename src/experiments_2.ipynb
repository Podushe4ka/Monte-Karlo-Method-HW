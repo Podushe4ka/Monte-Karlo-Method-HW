{
 "cells": [
  {
   "cell_type": "markdown",
   "id": "f559ca88",
   "metadata": {},
   "source": [
    "# Построение классификатора"
   ]
  },
  {
   "cell_type": "markdown",
   "id": "d6474365",
   "metadata": {},
   "source": [
    "Наш классификатор будет работать таким образом: по выборке строится дистанцированный граф, для него считается хроматическое число и размер максимального независимого множества, по ним и размеру выборки какой-то алгоритм классификации делает предсказание."
   ]
  },
  {
   "cell_type": "markdown",
   "id": "64c9354c",
   "metadata": {},
   "source": [
    "Пусть принятие нулевой гипотеры -- False, а первой -- True. Тогда ошибка первого рода это $FPR =\\frac{FP}{FP + TN}$, \n",
    "а мощность это $Recall = \\frac{TP}{TP + FN}$"
   ]
  },
  {
   "cell_type": "markdown",
   "id": "95ce0d0c",
   "metadata": {},
   "source": [
    "Для начала сгенерируем данные для обучения классификатора"
   ]
  },
  {
   "cell_type": "code",
   "execution_count": 1,
   "id": "86f43b6b",
   "metadata": {},
   "outputs": [],
   "source": [
    "import numpy as np\n",
    "import matplotlib.pyplot as plt\n",
    "import seaborn as sns\n",
    "from tqdm import tqdm\n",
    "import pandas as pd\n",
    "\n",
    "from monte_carlo_experiment import monte_carlo_experiment_for_several_parameters"
   ]
  },
  {
   "cell_type": "code",
   "execution_count": 3,
   "id": "07c6656c",
   "metadata": {},
   "outputs": [],
   "source": [
    "D = 1.5                     # параметр d для dist графа\n",
    "n_sampels = 20             # число итераций\n",
    "lambda_h0 = 1               # lambda для H0\n",
    "lambda_h1 = 1/np.sqrt(10)   # lambda для H1"
   ]
  },
  {
   "cell_type": "code",
   "execution_count": 4,
   "id": "76314ee9",
   "metadata": {},
   "outputs": [
    {
     "name": "stderr",
     "output_type": "stream",
     "text": [
      "100%|██████████| 600/600 [30:25<00:00,  3.04s/it]\n"
     ]
    }
   ],
   "source": [
    "metrics_cromatic_number = []\n",
    "metrics_size_maximal_independent_set = []\n",
    "data_size = []\n",
    "type_dist = []\n",
    "\n",
    "for n in tqdm(range(10, 610, 1)):\n",
    "    params_h0 = {\n",
    "            'n': n,\n",
    "            'x': D,\n",
    "            'lambda': lambda_h0,\n",
    "            'distribution': 'h0'\n",
    "         }\n",
    "    \n",
    "    params_h1 = {\n",
    "            'n': n,\n",
    "            'x': D,\n",
    "            'lambda': lambda_h1,\n",
    "            'distribution': 'h1'\n",
    "         }\n",
    "    \n",
    "    result_h0 = monte_carlo_experiment_for_several_parameters(params_h0, n_sampels, False)\n",
    "    result_h1 = monte_carlo_experiment_for_several_parameters(params_h1, n_sampels, False)\n",
    "\n",
    "    cromatic_number_h0 = result_h0['metrics_cromatic_number']\n",
    "    size_maximal_independent_set_h0 = result_h0['metrics_size_maximal_independent_set']\n",
    "    cromatic_number_h1 = result_h1['metrics_cromatic_number']\n",
    "    size_maximal_independent_set_h1 = result_h1['metrics_size_maximal_independent_set']\n",
    "   \n",
    "    type_dist_h0 = [0 for i in range(n_sampels)]\n",
    "    type_dist_h1 = [1 for i in range(n_sampels)]\n",
    "\n",
    "    metrics_cromatic_number+=cromatic_number_h0\n",
    "    metrics_cromatic_number+=cromatic_number_h1\n",
    "    metrics_size_maximal_independent_set+=size_maximal_independent_set_h0\n",
    "    metrics_size_maximal_independent_set+=size_maximal_independent_set_h1\n",
    "    type_dist+=type_dist_h0\n",
    "    type_dist+=type_dist_h1\n",
    "    data_size+=[n for _ in range(2*n_sampels)]\n",
    "    \n",
    "\n",
    "data = {\n",
    "    \"cromatic_number\": metrics_cromatic_number,\n",
    "    \"independent_set\": metrics_size_maximal_independent_set,\n",
    "    \"data_size\": data_size,\n",
    "    \"type_dist\": type_dist\n",
    "}\n"
   ]
  },
  {
   "cell_type": "code",
   "execution_count": 5,
   "id": "9b0718f3",
   "metadata": {},
   "outputs": [],
   "source": [
    "df = pd.DataFrame(data)"
   ]
  },
  {
   "cell_type": "markdown",
   "id": "745c4494",
   "metadata": {},
   "source": [
    "Наши данные для обучения готовы."
   ]
  },
  {
   "cell_type": "markdown",
   "id": "47c140d9",
   "metadata": {},
   "source": [
    "## Посоздаем модельки"
   ]
  },
  {
   "cell_type": "code",
   "execution_count": 6,
   "id": "20b5938e",
   "metadata": {},
   "outputs": [],
   "source": [
    "from sklearn.model_selection import train_test_split\n",
    "from sklearn.neighbors import KNeighborsClassifier\n",
    "from sklearn.metrics import (accuracy_score, precision_score, \n",
    "                            recall_score, f1_score, \n",
    "                            confusion_matrix, classification_report)\n",
    "from sklearn.preprocessing import StandardScaler\n",
    "import matplotlib.pyplot as plt\n",
    "import seaborn as sns\n",
    "\n",
    "\n",
    "def fpr_score(y_true, y_pred, pos_label=1):\n",
    "    tn, fp, fn, tp = confusion_matrix(y_true, y_pred, labels=[1 - pos_label, pos_label]).ravel()\n",
    "    denominator = fp + tn\n",
    "    fpr = fp / denominator if denominator != 0 else 0.0\n",
    "    return fpr\n",
    "\n",
    "\n",
    "X = df.drop(\"type_dist\", axis=1)\n",
    "y = df['type_dist']\n",
    "\n",
    "X_train, X_test, y_train, y_test = train_test_split(\n",
    "    X, \n",
    "    y, \n",
    "    test_size=0.2,      # Размер тестовой выборки (20%)\n",
    "    random_state=42,    # Для воспроизводимости\n",
    "    stratify=y          # Сохраняем распределение классов\n",
    ")\n",
    "\n",
    "scaler = StandardScaler()\n",
    "X_train_scaled = scaler.fit_transform(X_train)\n",
    "X_test_scaled = scaler.transform(X_test)"
   ]
  },
  {
   "cell_type": "markdown",
   "id": "23b435d6",
   "metadata": {},
   "source": [
    "### KNN"
   ]
  },
  {
   "cell_type": "code",
   "execution_count": 7,
   "id": "a20a35fc",
   "metadata": {},
   "outputs": [],
   "source": [
    "knn = KNeighborsClassifier(n_neighbors=5) \n",
    "knn.fit(X_train_scaled, y_train)\n",
    "y_pred = knn.predict(X_test_scaled)"
   ]
  },
  {
   "cell_type": "code",
   "execution_count": 8,
   "id": "f89320e6",
   "metadata": {},
   "outputs": [
    {
     "name": "stdout",
     "output_type": "stream",
     "text": [
      "Оценка качества модели KNN:\n",
      "----------------------------------\n",
      "Recall: 0.9754\n",
      "FPR: 0.0317\n",
      "Accuracy: 0.9719\n",
      "Precision: 0.9686\n",
      "F1-score: 0.9720\n"
     ]
    }
   ],
   "source": [
    "print(\"Оценка качества модели KNN:\")\n",
    "print(\"----------------------------------\")\n",
    "print(f\"Recall: {recall_score(y_test, y_pred):.4f}\")\n",
    "print(f\"FPR: {fpr_score(y_test, y_pred):.4f}\")\n",
    "print(f\"Accuracy: {accuracy_score(y_test, y_pred):.4f}\")\n",
    "print(f\"Precision: {precision_score(y_test, y_pred):.4f}\")\n",
    "print(f\"F1-score: {f1_score(y_test, y_pred):.4f}\")"
   ]
  },
  {
   "cell_type": "markdown",
   "id": "9ecbb110",
   "metadata": {},
   "source": [
    "Как мы видим, обычный KNN уже отлично справляется! Но попробуем другие модельки"
   ]
  },
  {
   "cell_type": "markdown",
   "id": "91ae3c53",
   "metadata": {},
   "source": [
    "### Логрегрессия"
   ]
  },
  {
   "cell_type": "code",
   "execution_count": 9,
   "id": "1710378f",
   "metadata": {},
   "outputs": [
    {
     "name": "stdout",
     "output_type": "stream",
     "text": [
      "Оценка качества логистической регрессии:\n",
      "----------------------------------\n",
      "Recall: 0.9546\n",
      "FPR: 0.0312\n",
      "Accuracy: 0.9617\n",
      "Precision: 0.9683\n",
      "F1-score: 0.9614\n"
     ]
    }
   ],
   "source": [
    "from sklearn.linear_model import LogisticRegression\n",
    "\n",
    "logreg = LogisticRegression(\n",
    "    penalty='l2',       \n",
    "    C=1.0,             \n",
    "    max_iter=1000,  \n",
    "    random_state=42\n",
    ")\n",
    "logreg.fit(X_train_scaled, y_train)\n",
    "\n",
    "y_pred = logreg.predict(X_test_scaled)\n",
    "\n",
    "\n",
    "print(\"Оценка качества логистической регрессии:\")\n",
    "print(\"----------------------------------\")\n",
    "print(f\"Recall: {recall_score(y_test, y_pred):.4f}\")\n",
    "print(f\"FPR: {fpr_score(y_test, y_pred):.4f}\")\n",
    "print(f\"Accuracy: {accuracy_score(y_test, y_pred):.4f}\")\n",
    "print(f\"Precision: {precision_score(y_test, y_pred):.4f}\")\n",
    "print(f\"F1-score: {f1_score(y_test, y_pred):.4f}\")"
   ]
  },
  {
   "cell_type": "markdown",
   "id": "6d860225",
   "metadata": {},
   "source": [
    "Recall получился чуть ниже, чем у KNN"
   ]
  },
  {
   "cell_type": "markdown",
   "id": "d26183f7",
   "metadata": {},
   "source": [
    "### Случайный лес"
   ]
  },
  {
   "cell_type": "code",
   "execution_count": 10,
   "id": "ef3d4c7b",
   "metadata": {},
   "outputs": [
    {
     "name": "stderr",
     "output_type": "stream",
     "text": [
      "Training Random Forest: 100%|██████████| 100/100 [00:00<00:00, 206.87it/s]"
     ]
    },
    {
     "name": "stdout",
     "output_type": "stream",
     "text": [
      "Оценка качества случайного леса:\n",
      "----------------------------------\n",
      "Recall: 0.9700\n",
      "FPR: 0.0342\n",
      "Accuracy: 0.9679\n",
      "Precision: 0.9660\n",
      "F1-score: 0.9680\n"
     ]
    },
    {
     "name": "stderr",
     "output_type": "stream",
     "text": [
      "\n"
     ]
    }
   ],
   "source": [
    "from sklearn.ensemble import RandomForestClassifier\n",
    "\n",
    "rf = RandomForestClassifier(\n",
    "    n_estimators=100,      # Количество деревьев\n",
    "    max_depth=None,         # Глубина деревьев (без ограничений)\n",
    "    min_samples_split=2,    # Минимальное число образцов для разделения узла\n",
    "    min_samples_leaf=1,     # Минимальное число образцов в листе\n",
    "    max_features='sqrt',    # Количество признаков для поиска лучшего разделения\n",
    "    random_state=42,\n",
    "    n_jobs=-1,              # Использовать все ядра процессора\n",
    "    class_weight='balanced' # Учет дисбаланса классов\n",
    ")\n",
    "\n",
    "\n",
    "with tqdm(total=100, desc=\"Training Random Forest\") as pbar:\n",
    "    rf.fit(X_train_scaled, y_train)\n",
    "    pbar.update(100)\n",
    "\n",
    "\n",
    "y_pred = rf.predict(X_test_scaled)\n",
    "\n",
    "\n",
    "print(\"Оценка качества случайного леса:\")\n",
    "print(\"----------------------------------\")\n",
    "print(f\"Recall: {recall_score(y_test, y_pred):.4f}\")\n",
    "print(f\"FPR: {fpr_score(y_test, y_pred):.4f}\")\n",
    "print(f\"Accuracy: {accuracy_score(y_test, y_pred):.4f}\")\n",
    "print(f\"Precision: {precision_score(y_test, y_pred):.4f}\")\n",
    "print(f\"F1-score: {f1_score(y_test, y_pred):.4f}\")\n",
    "\n"
   ]
  },
  {
   "cell_type": "markdown",
   "id": "ba0ad735",
   "metadata": {},
   "source": [
    "Метрики Recall и FPR получились хуже, чем у KNN"
   ]
  },
  {
   "cell_type": "markdown",
   "id": "8e23d410",
   "metadata": {},
   "source": [
    "### Итого"
   ]
  },
  {
   "cell_type": "markdown",
   "id": "41cbfcb3",
   "metadata": {},
   "source": [
    "| Метрика     | KNN  | LogReg      |  Random Forest  |\n",
    "|-------------|----- |-------------|-----------------|\n",
    "|FPR          |0.0317|   0.0312    |      0.0342     |\n",
    "|Recall       |0.9754|   0.9546    |      0.9700     |\n",
    "|Accuracy     |0.9719|   0.9617    |      0.9679     |"
   ]
  },
  {
   "cell_type": "markdown",
   "id": "a1f7e674",
   "metadata": {},
   "source": [
    "Лучше всего работает KNN. FPR чуть лучше у LogReg, но у нее сильно хуже Recall."
   ]
  },
  {
   "cell_type": "markdown",
   "id": "9ad7aa63",
   "metadata": {},
   "source": [
    "### Построение pipeline"
   ]
  },
  {
   "cell_type": "code",
   "execution_count": 47,
   "id": "0c269bac",
   "metadata": {},
   "outputs": [],
   "source": [
    "from utils import build_dist_nx, calculate_chromatic_number, calculate_size_maximal_independent_set\n",
    "import numpy as np\n",
    "from sklearn.base import BaseEstimator, TransformerMixin\n",
    "from sklearn.pipeline import Pipeline\n",
    "from sklearn.neighbors import KNeighborsClassifier\n",
    "from sklearn.preprocessing import StandardScaler\n",
    "\n",
    "\n",
    "class GraphFeatureExtractor(BaseEstimator, TransformerMixin):\n",
    "    def __init__(self, d=1.5):\n",
    "        self.d = d\n",
    "\n",
    "    def transform(self, X, y=None):\n",
    "        features = []\n",
    "        for data in X:\n",
    "            G = build_dist_nx(data, self.d)\n",
    "            chrom_num = calculate_chromatic_number(G)\n",
    "            mis_size = calculate_size_maximal_independent_set(G)\n",
    "            features.append([chrom_num, mis_size, len(data)])\n",
    "        return np.array(features)\n",
    "\n",
    "    def fit(self, X, y=None):\n",
    "        return self\n",
    "\n",
    "# Pipeline: Graph features -> StandardScaler -> KNN\n",
    "pipeline = Pipeline([\n",
    "    ('graph_features', GraphFeatureExtractor(d=1.5)),\n",
    "    ('scaler', StandardScaler()),\n",
    "    ('knn', KNeighborsClassifier(n_neighbors=5))\n",
    "])\n",
    "\n"
   ]
  }
 ],
 "metadata": {
  "kernelspec": {
   "display_name": "Python 3",
   "language": "python",
   "name": "python3"
  },
  "language_info": {
   "codemirror_mode": {
    "name": "ipython",
    "version": 3
   },
   "file_extension": ".py",
   "mimetype": "text/x-python",
   "name": "python",
   "nbconvert_exporter": "python",
   "pygments_lexer": "ipython3",
   "version": "3.10.12"
  }
 },
 "nbformat": 4,
 "nbformat_minor": 5
}
